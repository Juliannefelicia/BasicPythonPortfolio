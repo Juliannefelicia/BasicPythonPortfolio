{
 "cells": [
  {
   "cell_type": "code",
   "execution_count": 1,
   "id": "280c1528",
   "metadata": {},
   "outputs": [
    {
     "name": "stdout",
     "output_type": "stream",
     "text": [
      "Enter your name: Julianne\n",
      "Enter your weight in pounds: 110\n",
      "Enter your height in inches: 61\n",
      "Your BMI: 20.782047836603063\n"
     ]
    }
   ],
   "source": [
    "name = input('Enter your name: ')\n",
    "weight = int(input('Enter your weight in pounds: '))\n",
    "height = int(input('Enter your height in inches: '))\n",
    "BMI = (weight * 703) / (height * height)\n",
    "print('Your BMI: ' + str(BMI))"
   ]
  },
  {
   "cell_type": "code",
   "execution_count": 2,
   "id": "13068db6",
   "metadata": {},
   "outputs": [
    {
     "name": "stdout",
     "output_type": "stream",
     "text": [
      "Julianne, you are normal weight\n"
     ]
    }
   ],
   "source": [
    "if BMI > 0:\n",
    "    if(BMI<18.5):\n",
    "        print(name + ', you are underweight.')\n",
    "    elif (BMI<24.9):\n",
    "        print(name + ', you are normal weight')\n",
    "    elif (BMI<29.9):\n",
    "        print(name + ', you are overweight')\n",
    "    elif (BMI<34.9):\n",
    "        print(name + ', you are obese')\n",
    "    elif (BMI<39.9):\n",
    "        print(name + ', you are severely obese')\n",
    "    else:\n",
    "        print(name + ', you are morbidly obese')"
   ]
  },
  {
   "cell_type": "code",
   "execution_count": null,
   "id": "365675f1",
   "metadata": {},
   "outputs": [],
   "source": []
  }
 ],
 "metadata": {
  "kernelspec": {
   "display_name": "Python 3 (ipykernel)",
   "language": "python",
   "name": "python3"
  },
  "language_info": {
   "codemirror_mode": {
    "name": "ipython",
    "version": 3
   },
   "file_extension": ".py",
   "mimetype": "text/x-python",
   "name": "python",
   "nbconvert_exporter": "python",
   "pygments_lexer": "ipython3",
   "version": "3.11.4"
  }
 },
 "nbformat": 4,
 "nbformat_minor": 5
}
